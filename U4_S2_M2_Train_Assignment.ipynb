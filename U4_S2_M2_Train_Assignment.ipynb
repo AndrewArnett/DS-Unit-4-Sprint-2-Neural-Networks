{
  "nbformat": 4,
  "nbformat_minor": 0,
  "metadata": {
    "colab": {
      "name": "U4_S2_M2_Train_Assignment.ipynb",
      "provenance": [],
      "collapsed_sections": [],
      "toc_visible": true,
      "include_colab_link": true
    },
    "kernelspec": {
      "display_name": "Python 3",
      "language": "python",
      "name": "python3"
    },
    "language_info": {
      "codemirror_mode": {
        "name": "ipython",
        "version": 3
      },
      "file_extension": ".py",
      "mimetype": "text/x-python",
      "name": "python",
      "nbconvert_exporter": "python",
      "pygments_lexer": "ipython3",
      "version": "3.7.3"
    },
    "nteract": {
      "version": "0.22.4"
    },
    "accelerator": "GPU"
  },
  "cells": [
    {
      "cell_type": "markdown",
      "metadata": {
        "id": "view-in-github",
        "colab_type": "text"
      },
      "source": [
        "<a href=\"https://colab.research.google.com/github/AndrewArnett/DS-Unit-4-Sprint-2-Neural-Networks/blob/main/U4_S2_M2_Train_Assignment.ipynb\" target=\"_parent\"><img src=\"https://colab.research.google.com/assets/colab-badge.svg\" alt=\"Open In Colab\"/></a>"
      ]
    },
    {
      "cell_type": "markdown",
      "metadata": {
        "colab_type": "text",
        "id": "NGGrt9EYlCqY"
      },
      "source": [
        "<img align=\"left\" src=\"https://lever-client-logos.s3.amazonaws.com/864372b1-534c-480e-acd5-9711f850815c-1524247202159.png\" width=200>\n",
        "<br></br>\n",
        "<br></br>\n",
        "\n",
        "# Train Practice\n",
        "\n",
        "## *Data Science Unit 4 Sprint 2 Assignment 2*\n",
        "\n",
        "Continue to use TensorFlow Keras & a sample of the [Quickdraw dataset](https://github.com/googlecreativelab/quickdraw-dataset) to build a sketch classification model. The dataset has been sampled to only 10 classes and 10000 observations per class. Please build a baseline classification model then run a few experiments with different optimizers and learning rates. \n",
        "\n",
        "*Don't forgot to switch to GPU on Colab!*"
      ]
    },
    {
      "cell_type": "markdown",
      "metadata": {
        "id": "ptJ2b3wk62Ud",
        "colab_type": "text"
      },
      "source": [
        "### Write a function to load your data\n",
        "\n",
        "Wrap yesterday's preprocessing steps into a function that returns four items:\n",
        "* X_train\n",
        "* y_train\n",
        "* X_test\n",
        "* y_test\n",
        "\n",
        "Your function should accept a `path` to the data as a argument."
      ]
    },
    {
      "cell_type": "code",
      "metadata": {
        "id": "khtq_vniYotk",
        "colab_type": "code",
        "colab": {}
      },
      "source": [
        "import numpy as np\n",
        "from tensorflow import keras\n",
        "from tensorflow.keras.datasets import mnist\n",
        "from tensorflow.keras.models import Sequential\n",
        "from tensorflow.keras.layers import Dense\n",
        "from sklearn.model_selection import train_test_split\n",
        "import tensorflow as tf\n",
        "from sklearn.utils import shuffle"
      ],
      "execution_count": 2,
      "outputs": []
    },
    {
      "cell_type": "code",
      "metadata": {
        "id": "nJsIsrvp7O3e",
        "colab_type": "code",
        "colab": {}
      },
      "source": [
        "def load_quickdraw10(path):\n",
        "  data = np.load('quickdraw10.npz')\n",
        "  X = data['arr_0']\n",
        "  y = data['arr_1']\n",
        "  X = X/255\n",
        "  X, y = shuffle(X, y)\n",
        "  X_train, X_test, y_train, y_test = train_test_split(X, y, test_size=.2, random_state=23)\n",
        "\n",
        "\n",
        "  return X_train, y_train, X_test, y_test"
      ],
      "execution_count": 17,
      "outputs": []
    },
    {
      "cell_type": "code",
      "metadata": {
        "id": "knx7nGxyZwAq",
        "colab_type": "code",
        "colab": {}
      },
      "source": [
        "X_train, y_train, X_test, y_test = load_quickdraw10('quickdraw10.npz')"
      ],
      "execution_count": 18,
      "outputs": []
    },
    {
      "cell_type": "code",
      "metadata": {
        "id": "p7fxpm-jZmlb",
        "colab_type": "code",
        "colab": {
          "base_uri": "https://localhost:8080/",
          "height": 85
        },
        "outputId": "c19f3856-3822-4b38-8419-dab71fc9cafd"
      },
      "source": [
        "print(X_train.shape)\n",
        "print(y_train.shape)\n",
        "print(X_test.shape)\n",
        "print(y_test.shape)"
      ],
      "execution_count": 19,
      "outputs": [
        {
          "output_type": "stream",
          "text": [
            "(80000, 784)\n",
            "(80000,)\n",
            "(20000, 784)\n",
            "(20000,)\n"
          ],
          "name": "stdout"
        }
      ]
    },
    {
      "cell_type": "markdown",
      "metadata": {
        "id": "l-6PxI6H5__2",
        "colab_type": "text"
      },
      "source": [
        "### Write a Model Function\n",
        "Using your model from yesterday, write a function called `create_model` which returns a compiled TensorFlow Keras Sequential Model suitable for classifying the QuickDraw-10 dataset. Include parameters for the following: \n",
        "* Learning Rate\n",
        "* Optimizer"
      ]
    },
    {
      "cell_type": "code",
      "metadata": {
        "id": "67ihB4-kbC9h",
        "colab_type": "code",
        "colab": {}
      },
      "source": [
        "from tensorflow.keras.optimizers import SGD"
      ],
      "execution_count": 20,
      "outputs": []
    },
    {
      "cell_type": "code",
      "metadata": {
        "colab_type": "code",
        "id": "nEREYT-3wI1f",
        "colab": {}
      },
      "source": [
        "##### Your Code Here #####\n",
        "\n",
        "def create_model(lr, opt):\n",
        "\n",
        "  opt = SGD()\n",
        "\n",
        "  model = Sequential(\n",
        "      [\n",
        "       Dense(32, activation='relu', input_dim=784),\n",
        "       Dense(32, activation='relu'),\n",
        "       Dense(10, activation='softmax')\n",
        "      ]\n",
        "  )\n",
        "\n",
        "  model.compile(optimizer=opt, loss='sparse_categorical_crossentropy', \n",
        "                metrics=['accuracy'])\n",
        "  \n",
        "  return model"
      ],
      "execution_count": 21,
      "outputs": []
    },
    {
      "cell_type": "markdown",
      "metadata": {
        "id": "f0pCkh8C7eGL",
        "colab_type": "text"
      },
      "source": [
        "### Experiment with Batch Size\n",
        "* Run 5 experiments with various batch sizes of your choice. \n",
        "* Visualize the results\n",
        "* Write up an analysis of the experiments and select the \"best\" performing model among your experiments. Make sure to compare against your model's performance yesterday. "
      ]
    },
    {
      "cell_type": "code",
      "metadata": {
        "id": "USXjs7Hk71Hy",
        "colab_type": "code",
        "colab": {
          "base_uri": "https://localhost:8080/",
          "height": 289
        },
        "outputId": "412b9af9-03cd-4dbd-d0ff-09d00bdf8595"
      },
      "source": [
        "model_8 = create_model(.01, SGD)\n",
        "bt_8 = model_8.fit(X_train, y_train, epochs=8, batch_size=8, validation_data=(X_test, y_test))"
      ],
      "execution_count": 24,
      "outputs": [
        {
          "output_type": "stream",
          "text": [
            "Epoch 1/8\n",
            "10000/10000 [==============================] - 19s 2ms/step - loss: 0.8955 - accuracy: 0.7305 - val_loss: 0.7131 - val_accuracy: 0.7835\n",
            "Epoch 2/8\n",
            "10000/10000 [==============================] - 18s 2ms/step - loss: 0.6493 - accuracy: 0.8061 - val_loss: 0.6194 - val_accuracy: 0.8146\n",
            "Epoch 3/8\n",
            "10000/10000 [==============================] - 18s 2ms/step - loss: 0.5802 - accuracy: 0.8259 - val_loss: 0.5707 - val_accuracy: 0.8269\n",
            "Epoch 4/8\n",
            "10000/10000 [==============================] - 18s 2ms/step - loss: 0.5383 - accuracy: 0.8378 - val_loss: 0.5472 - val_accuracy: 0.8357\n",
            "Epoch 5/8\n",
            "10000/10000 [==============================] - 18s 2ms/step - loss: 0.5113 - accuracy: 0.8458 - val_loss: 0.5311 - val_accuracy: 0.8429\n",
            "Epoch 6/8\n",
            "10000/10000 [==============================] - 18s 2ms/step - loss: 0.4922 - accuracy: 0.8522 - val_loss: 0.5279 - val_accuracy: 0.8439\n",
            "Epoch 7/8\n",
            "10000/10000 [==============================] - 18s 2ms/step - loss: 0.4765 - accuracy: 0.8565 - val_loss: 0.5151 - val_accuracy: 0.8461\n",
            "Epoch 8/8\n",
            "10000/10000 [==============================] - 18s 2ms/step - loss: 0.4658 - accuracy: 0.8588 - val_loss: 0.5129 - val_accuracy: 0.8503\n"
          ],
          "name": "stdout"
        }
      ]
    },
    {
      "cell_type": "code",
      "metadata": {
        "id": "FarWfeH0e-8U",
        "colab_type": "code",
        "colab": {
          "base_uri": "https://localhost:8080/",
          "height": 289
        },
        "outputId": "618efd7c-9b06-4639-9a4b-2b9aea22e7fa"
      },
      "source": [
        "model_16 = create_model(.01, SGD)\n",
        "bt_16 = model_16.fit(X_train, y_train, epochs=8, batch_size=16, validation_data=(X_test, y_test))"
      ],
      "execution_count": 25,
      "outputs": [
        {
          "output_type": "stream",
          "text": [
            "Epoch 1/8\n",
            "5000/5000 [==============================] - 9s 2ms/step - loss: 0.9863 - accuracy: 0.7025 - val_loss: 0.7747 - val_accuracy: 0.7695\n",
            "Epoch 2/8\n",
            "5000/5000 [==============================] - 9s 2ms/step - loss: 0.7308 - accuracy: 0.7851 - val_loss: 0.6815 - val_accuracy: 0.8003\n",
            "Epoch 3/8\n",
            "5000/5000 [==============================] - 9s 2ms/step - loss: 0.6577 - accuracy: 0.8054 - val_loss: 0.6261 - val_accuracy: 0.8140\n",
            "Epoch 4/8\n",
            "5000/5000 [==============================] - 9s 2ms/step - loss: 0.6091 - accuracy: 0.8193 - val_loss: 0.6136 - val_accuracy: 0.8185\n",
            "Epoch 5/8\n",
            "5000/5000 [==============================] - 9s 2ms/step - loss: 0.5763 - accuracy: 0.8286 - val_loss: 0.5794 - val_accuracy: 0.8286\n",
            "Epoch 6/8\n",
            "5000/5000 [==============================] - 11s 2ms/step - loss: 0.5502 - accuracy: 0.8357 - val_loss: 0.5590 - val_accuracy: 0.8346\n",
            "Epoch 7/8\n",
            "5000/5000 [==============================] - 9s 2ms/step - loss: 0.5306 - accuracy: 0.8416 - val_loss: 0.5542 - val_accuracy: 0.8360\n",
            "Epoch 8/8\n",
            "5000/5000 [==============================] - 9s 2ms/step - loss: 0.5153 - accuracy: 0.8455 - val_loss: 0.5353 - val_accuracy: 0.8414\n"
          ],
          "name": "stdout"
        }
      ]
    },
    {
      "cell_type": "code",
      "metadata": {
        "id": "Y9KM-8hCe_CM",
        "colab_type": "code",
        "colab": {
          "base_uri": "https://localhost:8080/",
          "height": 289
        },
        "outputId": "b2569fca-9b10-4d5a-db6d-4eff601251ca"
      },
      "source": [
        "model_32 = create_model(.01, SGD)\n",
        "bt_32 = model_32.fit(X_train, y_train, epochs=8, batch_size=32, validation_data=(X_test, y_test))"
      ],
      "execution_count": 26,
      "outputs": [
        {
          "output_type": "stream",
          "text": [
            "Epoch 1/8\n",
            "2500/2500 [==============================] - 5s 2ms/step - loss: 1.1601 - accuracy: 0.6308 - val_loss: 0.8467 - val_accuracy: 0.7512\n",
            "Epoch 2/8\n",
            "2500/2500 [==============================] - 5s 2ms/step - loss: 0.8000 - accuracy: 0.7630 - val_loss: 0.7499 - val_accuracy: 0.7796\n",
            "Epoch 3/8\n",
            "2500/2500 [==============================] - 5s 2ms/step - loss: 0.7256 - accuracy: 0.7863 - val_loss: 0.6999 - val_accuracy: 0.7951\n",
            "Epoch 4/8\n",
            "2500/2500 [==============================] - 5s 2ms/step - loss: 0.6769 - accuracy: 0.8006 - val_loss: 0.6536 - val_accuracy: 0.8091\n",
            "Epoch 5/8\n",
            "2500/2500 [==============================] - 5s 2ms/step - loss: 0.6398 - accuracy: 0.8119 - val_loss: 0.6283 - val_accuracy: 0.8181\n",
            "Epoch 6/8\n",
            "2500/2500 [==============================] - 5s 2ms/step - loss: 0.6108 - accuracy: 0.8197 - val_loss: 0.6034 - val_accuracy: 0.8242\n",
            "Epoch 7/8\n",
            "2500/2500 [==============================] - 5s 2ms/step - loss: 0.5873 - accuracy: 0.8263 - val_loss: 0.6108 - val_accuracy: 0.8191\n",
            "Epoch 8/8\n",
            "2500/2500 [==============================] - 5s 2ms/step - loss: 0.5685 - accuracy: 0.8317 - val_loss: 0.5780 - val_accuracy: 0.8285\n"
          ],
          "name": "stdout"
        }
      ]
    },
    {
      "cell_type": "code",
      "metadata": {
        "id": "T-FcoMyMfAfs",
        "colab_type": "code",
        "colab": {
          "base_uri": "https://localhost:8080/",
          "height": 289
        },
        "outputId": "aecabb19-2d80-49de-8e12-91b32f01e742"
      },
      "source": [
        "model_64 = create_model(.01, SGD)\n",
        "bt_64 = model_64.fit(X_train, y_train, epochs=8, batch_size=64, validation_data=(X_test, y_test))"
      ],
      "execution_count": 27,
      "outputs": [
        {
          "output_type": "stream",
          "text": [
            "Epoch 1/8\n",
            "1250/1250 [==============================] - 3s 2ms/step - loss: 1.3319 - accuracy: 0.5896 - val_loss: 0.9557 - val_accuracy: 0.7181\n",
            "Epoch 2/8\n",
            "1250/1250 [==============================] - 2s 2ms/step - loss: 0.9063 - accuracy: 0.7314 - val_loss: 0.8474 - val_accuracy: 0.7526\n",
            "Epoch 3/8\n",
            "1250/1250 [==============================] - 2s 2ms/step - loss: 0.8310 - accuracy: 0.7565 - val_loss: 0.7933 - val_accuracy: 0.7703\n",
            "Epoch 4/8\n",
            "1250/1250 [==============================] - 2s 2ms/step - loss: 0.7857 - accuracy: 0.7712 - val_loss: 0.7647 - val_accuracy: 0.7779\n",
            "Epoch 5/8\n",
            "1250/1250 [==============================] - 2s 2ms/step - loss: 0.7516 - accuracy: 0.7821 - val_loss: 0.7326 - val_accuracy: 0.7890\n",
            "Epoch 6/8\n",
            "1250/1250 [==============================] - 2s 2ms/step - loss: 0.7240 - accuracy: 0.7900 - val_loss: 0.7081 - val_accuracy: 0.7959\n",
            "Epoch 7/8\n",
            "1250/1250 [==============================] - 2s 2ms/step - loss: 0.7000 - accuracy: 0.7971 - val_loss: 0.6863 - val_accuracy: 0.8019\n",
            "Epoch 8/8\n",
            "1250/1250 [==============================] - 2s 2ms/step - loss: 0.6781 - accuracy: 0.8039 - val_loss: 0.6784 - val_accuracy: 0.8040\n"
          ],
          "name": "stdout"
        }
      ]
    },
    {
      "cell_type": "code",
      "metadata": {
        "id": "xi6eoaq4fAWM",
        "colab_type": "code",
        "colab": {
          "base_uri": "https://localhost:8080/",
          "height": 289
        },
        "outputId": "fd96a795-0f54-425a-8693-02ba52b9b54d"
      },
      "source": [
        "model_128 =create_model(.01, SGD)\n",
        "bt_128 = model_128.fit(X_train, y_train, epochs=8, batch_size=128, validation_data=(X_test, y_test))"
      ],
      "execution_count": 28,
      "outputs": [
        {
          "output_type": "stream",
          "text": [
            "Epoch 1/8\n",
            "625/625 [==============================] - 1s 2ms/step - loss: 1.6616 - accuracy: 0.4630 - val_loss: 1.2240 - val_accuracy: 0.6241\n",
            "Epoch 2/8\n",
            "625/625 [==============================] - 1s 2ms/step - loss: 1.0837 - accuracy: 0.6691 - val_loss: 0.9666 - val_accuracy: 0.7107\n",
            "Epoch 3/8\n",
            "625/625 [==============================] - 1s 2ms/step - loss: 0.9218 - accuracy: 0.7234 - val_loss: 0.8685 - val_accuracy: 0.7403\n",
            "Epoch 4/8\n",
            "625/625 [==============================] - 1s 2ms/step - loss: 0.8532 - accuracy: 0.7448 - val_loss: 0.8234 - val_accuracy: 0.7568\n",
            "Epoch 5/8\n",
            "625/625 [==============================] - 1s 2ms/step - loss: 0.8134 - accuracy: 0.7593 - val_loss: 0.7903 - val_accuracy: 0.7687\n",
            "Epoch 6/8\n",
            "625/625 [==============================] - 1s 2ms/step - loss: 0.7845 - accuracy: 0.7696 - val_loss: 0.7662 - val_accuracy: 0.7760\n",
            "Epoch 7/8\n",
            "625/625 [==============================] - 1s 2ms/step - loss: 0.7612 - accuracy: 0.7772 - val_loss: 0.7450 - val_accuracy: 0.7836\n",
            "Epoch 8/8\n",
            "625/625 [==============================] - 1s 2ms/step - loss: 0.7408 - accuracy: 0.7836 - val_loss: 0.7283 - val_accuracy: 0.7891\n"
          ],
          "name": "stdout"
        }
      ]
    },
    {
      "cell_type": "code",
      "metadata": {
        "id": "9BBF-MAsevQ9",
        "colab_type": "code",
        "colab": {
          "base_uri": "https://localhost:8080/",
          "height": 204
        },
        "outputId": "8e24d661-c0c9-4b04-daa0-762f292be17a"
      },
      "source": [
        "import seaborn as sns\n",
        "import pandas as pd\n",
        "\n",
        "batch_sizes = []\n",
        "\n",
        "for exp, result in zip([bt_8, bt_16, bt_32, bt_64, bt_128], \n",
        "                       [\"8_\", \"16_\", \"32_\", \"64_\", \"128_\"]):\n",
        "  df = pd.DataFrame.from_dict(exp.history)\n",
        "  df['epoch'] = df.index.values\n",
        "  df['Batch Size'] = result\n",
        "\n",
        "  batch_sizes.append(df)\n",
        "\n",
        "df = pd.concat(batch_sizes)\n",
        "df['Batch Size'] = df['Batch Size'].astype('str')\n",
        "df.head()"
      ],
      "execution_count": 31,
      "outputs": [
        {
          "output_type": "execute_result",
          "data": {
            "text/html": [
              "<div>\n",
              "<style scoped>\n",
              "    .dataframe tbody tr th:only-of-type {\n",
              "        vertical-align: middle;\n",
              "    }\n",
              "\n",
              "    .dataframe tbody tr th {\n",
              "        vertical-align: top;\n",
              "    }\n",
              "\n",
              "    .dataframe thead th {\n",
              "        text-align: right;\n",
              "    }\n",
              "</style>\n",
              "<table border=\"1\" class=\"dataframe\">\n",
              "  <thead>\n",
              "    <tr style=\"text-align: right;\">\n",
              "      <th></th>\n",
              "      <th>loss</th>\n",
              "      <th>accuracy</th>\n",
              "      <th>val_loss</th>\n",
              "      <th>val_accuracy</th>\n",
              "      <th>epoch</th>\n",
              "      <th>Batch Size</th>\n",
              "    </tr>\n",
              "  </thead>\n",
              "  <tbody>\n",
              "    <tr>\n",
              "      <th>0</th>\n",
              "      <td>0.895505</td>\n",
              "      <td>0.730488</td>\n",
              "      <td>0.713117</td>\n",
              "      <td>0.78345</td>\n",
              "      <td>0</td>\n",
              "      <td>8_</td>\n",
              "    </tr>\n",
              "    <tr>\n",
              "      <th>1</th>\n",
              "      <td>0.649309</td>\n",
              "      <td>0.806100</td>\n",
              "      <td>0.619376</td>\n",
              "      <td>0.81460</td>\n",
              "      <td>1</td>\n",
              "      <td>8_</td>\n",
              "    </tr>\n",
              "    <tr>\n",
              "      <th>2</th>\n",
              "      <td>0.580166</td>\n",
              "      <td>0.825888</td>\n",
              "      <td>0.570724</td>\n",
              "      <td>0.82690</td>\n",
              "      <td>2</td>\n",
              "      <td>8_</td>\n",
              "    </tr>\n",
              "    <tr>\n",
              "      <th>3</th>\n",
              "      <td>0.538297</td>\n",
              "      <td>0.837850</td>\n",
              "      <td>0.547228</td>\n",
              "      <td>0.83570</td>\n",
              "      <td>3</td>\n",
              "      <td>8_</td>\n",
              "    </tr>\n",
              "    <tr>\n",
              "      <th>4</th>\n",
              "      <td>0.511316</td>\n",
              "      <td>0.845825</td>\n",
              "      <td>0.531062</td>\n",
              "      <td>0.84295</td>\n",
              "      <td>4</td>\n",
              "      <td>8_</td>\n",
              "    </tr>\n",
              "  </tbody>\n",
              "</table>\n",
              "</div>"
            ],
            "text/plain": [
              "       loss  accuracy  val_loss  val_accuracy  epoch Batch Size\n",
              "0  0.895505  0.730488  0.713117       0.78345      0         8_\n",
              "1  0.649309  0.806100  0.619376       0.81460      1         8_\n",
              "2  0.580166  0.825888  0.570724       0.82690      2         8_\n",
              "3  0.538297  0.837850  0.547228       0.83570      3         8_\n",
              "4  0.511316  0.845825  0.531062       0.84295      4         8_"
            ]
          },
          "metadata": {
            "tags": []
          },
          "execution_count": 31
        }
      ]
    },
    {
      "cell_type": "code",
      "metadata": {
        "id": "Y7gaqhEygw3b",
        "colab_type": "code",
        "colab": {
          "base_uri": "https://localhost:8080/",
          "height": 279
        },
        "outputId": "2072a4f7-26e3-4640-ad11-aa8be6efdad8"
      },
      "source": [
        "sns.lineplot(x='epoch', y='val_accuracy', hue='Batch Size', data=df);"
      ],
      "execution_count": 32,
      "outputs": [
        {
          "output_type": "display_data",
          "data": {
            "image/png": "[encoded data removed]",
            "text/plain": [
              "<Figure size 432x288 with 1 Axes>"
            ]
          },
          "metadata": {
            "tags": [],
            "needs_background": "light"
          }
        }
      ]
    },
    {
      "cell_type": "code",
      "metadata": {
        "id": "2xcJI_7gg7tz",
        "colab_type": "code",
        "colab": {
          "base_uri": "https://localhost:8080/",
          "height": 279
        },
        "outputId": "3d0442f5-76e8-481f-8e54-e72e708eb15a"
      },
      "source": [
        "sns.lineplot(x='epoch', y='val_loss', hue='Batch Size', data=df);"
      ],
      "execution_count": 33,
      "outputs": [
        {
          "output_type": "display_data",
          "data": {
            "image/png": "[encoded data removed]",
            "text/plain": [
              "<Figure size 432x288 with 1 Axes>"
            ]
          },
          "metadata": {
            "tags": [],
            "needs_background": "light"
          }
        }
      ]
    },
    {
      "cell_type": "markdown",
      "metadata": {
        "colab_type": "text",
        "id": "8b-r70o8p2Dm"
      },
      "source": [
        "### Experiment with Learning Rate\n",
        "* Run 5 experiments with various learning rate magnitudes: 1, .1, .01, .001, .0001.\n",
        "* Use the \"best\" batch size from the previous experiment\n",
        "* Visualize the results\n",
        "* Write up an analysis of the experiments and select the \"best\" performing model among your experiments. Make sure to compare against the previous experiments and your model's performance yesterday. "
      ]
    },
    {
      "cell_type": "code",
      "metadata": {
        "id": "_SA144xx8Luf",
        "colab_type": "code",
        "colab": {
          "base_uri": "https://localhost:8080/",
          "height": 289
        },
        "outputId": "38a2a72e-2fde-4df0-9549-7ae527de04b9"
      },
      "source": [
        "lr_one = create_model(1, SGD).fit(X_train, y_train,\n",
        "                                  epochs=8,\n",
        "                                  validation_data=(X_test, y_test))"
      ],
      "execution_count": 34,
      "outputs": [
        {
          "output_type": "stream",
          "text": [
            "Epoch 1/8\n",
            "2500/2500 [==============================] - 5s 2ms/step - loss: 1.1604 - accuracy: 0.6398 - val_loss: 0.8339 - val_accuracy: 0.7575\n",
            "Epoch 2/8\n",
            "2500/2500 [==============================] - 5s 2ms/step - loss: 0.7945 - accuracy: 0.7662 - val_loss: 0.7394 - val_accuracy: 0.7865\n",
            "Epoch 3/8\n",
            "2500/2500 [==============================] - 5s 2ms/step - loss: 0.7209 - accuracy: 0.7879 - val_loss: 0.6843 - val_accuracy: 0.8033\n",
            "Epoch 4/8\n",
            "2500/2500 [==============================] - 5s 2ms/step - loss: 0.6723 - accuracy: 0.8022 - val_loss: 0.6564 - val_accuracy: 0.8094\n",
            "Epoch 5/8\n",
            "2500/2500 [==============================] - 5s 2ms/step - loss: 0.6362 - accuracy: 0.8132 - val_loss: 0.6229 - val_accuracy: 0.8174\n",
            "Epoch 6/8\n",
            "2500/2500 [==============================] - 5s 2ms/step - loss: 0.6068 - accuracy: 0.8209 - val_loss: 0.6030 - val_accuracy: 0.8220\n",
            "Epoch 7/8\n",
            "2500/2500 [==============================] - 5s 2ms/step - loss: 0.5834 - accuracy: 0.8284 - val_loss: 0.5865 - val_accuracy: 0.8289\n",
            "Epoch 8/8\n",
            "2500/2500 [==============================] - 5s 2ms/step - loss: 0.5652 - accuracy: 0.8322 - val_loss: 0.5696 - val_accuracy: 0.8347\n"
          ],
          "name": "stdout"
        }
      ]
    },
    {
      "cell_type": "code",
      "metadata": {
        "id": "5VyskhbdiHnQ",
        "colab_type": "code",
        "colab": {
          "base_uri": "https://localhost:8080/",
          "height": 289
        },
        "outputId": "3d5dde27-6db9-469e-ca65-ec78a803c985"
      },
      "source": [
        "lr_1 = create_model(.1, SGD).fit(X_train, y_train,\n",
        "                                  epochs=8,\n",
        "                                  validation_data=(X_test, y_test))"
      ],
      "execution_count": 35,
      "outputs": [
        {
          "output_type": "stream",
          "text": [
            "Epoch 1/8\n",
            "2500/2500 [==============================] - 5s 2ms/step - loss: 1.1183 - accuracy: 0.6551 - val_loss: 0.8273 - val_accuracy: 0.7552\n",
            "Epoch 2/8\n",
            "2500/2500 [==============================] - 5s 2ms/step - loss: 0.7880 - accuracy: 0.7683 - val_loss: 0.7313 - val_accuracy: 0.7875\n",
            "Epoch 3/8\n",
            "2500/2500 [==============================] - 5s 2ms/step - loss: 0.7130 - accuracy: 0.7908 - val_loss: 0.6764 - val_accuracy: 0.8029\n",
            "Epoch 4/8\n",
            "2500/2500 [==============================] - 5s 2ms/step - loss: 0.6650 - accuracy: 0.8060 - val_loss: 0.6414 - val_accuracy: 0.8123\n",
            "Epoch 5/8\n",
            "2500/2500 [==============================] - 5s 2ms/step - loss: 0.6287 - accuracy: 0.8161 - val_loss: 0.6139 - val_accuracy: 0.8195\n",
            "Epoch 6/8\n",
            "2500/2500 [==============================] - 5s 2ms/step - loss: 0.6010 - accuracy: 0.8240 - val_loss: 0.5952 - val_accuracy: 0.8249\n",
            "Epoch 7/8\n",
            "2500/2500 [==============================] - 5s 2ms/step - loss: 0.5788 - accuracy: 0.8294 - val_loss: 0.5789 - val_accuracy: 0.8309\n",
            "Epoch 8/8\n",
            "2500/2500 [==============================] - 5s 2ms/step - loss: 0.5604 - accuracy: 0.8349 - val_loss: 0.5645 - val_accuracy: 0.8352\n"
          ],
          "name": "stdout"
        }
      ]
    },
    {
      "cell_type": "code",
      "metadata": {
        "id": "cqdX2ajfiH7o",
        "colab_type": "code",
        "colab": {
          "base_uri": "https://localhost:8080/",
          "height": 289
        },
        "outputId": "975e2cf0-ae51-4f37-b78c-b4d8cc28b53a"
      },
      "source": [
        "lr_01 = create_model(.01, SGD).fit(X_train, y_train,\n",
        "                                  epochs=8,\n",
        "                                  validation_data=(X_test, y_test))"
      ],
      "execution_count": 36,
      "outputs": [
        {
          "output_type": "stream",
          "text": [
            "Epoch 1/8\n",
            "2500/2500 [==============================] - 5s 2ms/step - loss: 1.1632 - accuracy: 0.6342 - val_loss: 0.8547 - val_accuracy: 0.7463\n",
            "Epoch 2/8\n",
            "2500/2500 [==============================] - 5s 2ms/step - loss: 0.8158 - accuracy: 0.7601 - val_loss: 0.7686 - val_accuracy: 0.7697\n",
            "Epoch 3/8\n",
            "2500/2500 [==============================] - 5s 2ms/step - loss: 0.7370 - accuracy: 0.7843 - val_loss: 0.7031 - val_accuracy: 0.7976\n",
            "Epoch 4/8\n",
            "2500/2500 [==============================] - 5s 2ms/step - loss: 0.6849 - accuracy: 0.7990 - val_loss: 0.6611 - val_accuracy: 0.8065\n",
            "Epoch 5/8\n",
            "2500/2500 [==============================] - 5s 2ms/step - loss: 0.6451 - accuracy: 0.8106 - val_loss: 0.6319 - val_accuracy: 0.8141\n",
            "Epoch 6/8\n",
            "2500/2500 [==============================] - 5s 2ms/step - loss: 0.6161 - accuracy: 0.8177 - val_loss: 0.6122 - val_accuracy: 0.8180\n",
            "Epoch 7/8\n",
            "2500/2500 [==============================] - 5s 2ms/step - loss: 0.5930 - accuracy: 0.8244 - val_loss: 0.5958 - val_accuracy: 0.8219\n",
            "Epoch 8/8\n",
            "2500/2500 [==============================] - 5s 2ms/step - loss: 0.5736 - accuracy: 0.8288 - val_loss: 0.5782 - val_accuracy: 0.8281\n"
          ],
          "name": "stdout"
        }
      ]
    },
    {
      "cell_type": "code",
      "metadata": {
        "id": "OkfjhIoNiHwA",
        "colab_type": "code",
        "colab": {
          "base_uri": "https://localhost:8080/",
          "height": 289
        },
        "outputId": "2e0a1c6d-bba9-41aa-a76b-fc366d0ab417"
      },
      "source": [
        "lr_001 = create_model(.001, SGD).fit(X_train, y_train,\n",
        "                                  epochs=8,\n",
        "                                  validation_data=(X_test, y_test))"
      ],
      "execution_count": 37,
      "outputs": [
        {
          "output_type": "stream",
          "text": [
            "Epoch 1/8\n",
            "2500/2500 [==============================] - 5s 2ms/step - loss: 1.1727 - accuracy: 0.6328 - val_loss: 0.8478 - val_accuracy: 0.7506\n",
            "Epoch 2/8\n",
            "2500/2500 [==============================] - 5s 2ms/step - loss: 0.8004 - accuracy: 0.7631 - val_loss: 0.7463 - val_accuracy: 0.7830\n",
            "Epoch 3/8\n",
            "2500/2500 [==============================] - 5s 2ms/step - loss: 0.7251 - accuracy: 0.7871 - val_loss: 0.6930 - val_accuracy: 0.7969\n",
            "Epoch 4/8\n",
            "2500/2500 [==============================] - 5s 2ms/step - loss: 0.6790 - accuracy: 0.8009 - val_loss: 0.6651 - val_accuracy: 0.8042\n",
            "Epoch 5/8\n",
            "2500/2500 [==============================] - 5s 2ms/step - loss: 0.6435 - accuracy: 0.8099 - val_loss: 0.6280 - val_accuracy: 0.8167\n",
            "Epoch 6/8\n",
            "2500/2500 [==============================] - 5s 2ms/step - loss: 0.6137 - accuracy: 0.8185 - val_loss: 0.6106 - val_accuracy: 0.8199\n",
            "Epoch 7/8\n",
            "2500/2500 [==============================] - 5s 2ms/step - loss: 0.5907 - accuracy: 0.8255 - val_loss: 0.5963 - val_accuracy: 0.8239\n",
            "Epoch 8/8\n",
            "2500/2500 [==============================] - 5s 2ms/step - loss: 0.5714 - accuracy: 0.8310 - val_loss: 0.5782 - val_accuracy: 0.8304\n"
          ],
          "name": "stdout"
        }
      ]
    },
    {
      "cell_type": "code",
      "metadata": {
        "id": "WnKZkNp5iHe6",
        "colab_type": "code",
        "colab": {
          "base_uri": "https://localhost:8080/",
          "height": 289
        },
        "outputId": "7ccec6f7-b5f8-4962-da6c-1e3a6461039a"
      },
      "source": [
        "lr_0001 = create_model(.0001, SGD).fit(X_train, y_train,\n",
        "                                  epochs=8,\n",
        "                                  validation_data=(X_test, y_test))"
      ],
      "execution_count": 38,
      "outputs": [
        {
          "output_type": "stream",
          "text": [
            "Epoch 1/8\n",
            "2500/2500 [==============================] - 5s 2ms/step - loss: 1.1422 - accuracy: 0.6485 - val_loss: 0.8546 - val_accuracy: 0.7441\n",
            "Epoch 2/8\n",
            "2500/2500 [==============================] - 5s 2ms/step - loss: 0.8116 - accuracy: 0.7584 - val_loss: 0.7589 - val_accuracy: 0.7781\n",
            "Epoch 3/8\n",
            "2500/2500 [==============================] - 5s 2ms/step - loss: 0.7363 - accuracy: 0.7834 - val_loss: 0.7020 - val_accuracy: 0.7970\n",
            "Epoch 4/8\n",
            "2500/2500 [==============================] - 5s 2ms/step - loss: 0.6858 - accuracy: 0.7985 - val_loss: 0.6688 - val_accuracy: 0.8052\n",
            "Epoch 5/8\n",
            "2500/2500 [==============================] - 5s 2ms/step - loss: 0.6483 - accuracy: 0.8087 - val_loss: 0.6363 - val_accuracy: 0.8126\n",
            "Epoch 6/8\n",
            "2500/2500 [==============================] - 5s 2ms/step - loss: 0.6177 - accuracy: 0.8167 - val_loss: 0.6186 - val_accuracy: 0.8163\n",
            "Epoch 7/8\n",
            "2500/2500 [==============================] - 5s 2ms/step - loss: 0.5936 - accuracy: 0.8236 - val_loss: 0.6019 - val_accuracy: 0.8206\n",
            "Epoch 8/8\n",
            "2500/2500 [==============================] - 5s 2ms/step - loss: 0.5743 - accuracy: 0.8293 - val_loss: 0.5890 - val_accuracy: 0.8238\n"
          ],
          "name": "stdout"
        }
      ]
    },
    {
      "cell_type": "code",
      "metadata": {
        "id": "ao2-Kljdjcxo",
        "colab_type": "code",
        "colab": {
          "base_uri": "https://localhost:8080/",
          "height": 204
        },
        "outputId": "fc4b6b17-e6e4-4e95-a4f3-0c2357b88bdb"
      },
      "source": [
        "batch_sizes = []\n",
        "\n",
        "for exp, result in zip([lr_one, lr_1, lr_01, lr_001, lr_0001], [\"1_\", \".1_\", \".01_\", \".001_\", \".0001_\"]):\n",
        "\n",
        "  df = pd.DataFrame.from_dict(exp.history)\n",
        "  df['epoch'] = df.index.values\n",
        "  df['Learning Rate'] = result\n",
        "\n",
        "  batch_sizes.append(df)\n",
        "\n",
        "df = pd.concat(batch_sizes)\n",
        "df['Learning Rate'] = df['Learning Rate'].astype('str')\n",
        "df.head()"
      ],
      "execution_count": 51,
      "outputs": [
        {
          "output_type": "execute_result",
          "data": {
            "text/html": [
              "<div>\n",
              "<style scoped>\n",
              "    .dataframe tbody tr th:only-of-type {\n",
              "        vertical-align: middle;\n",
              "    }\n",
              "\n",
              "    .dataframe tbody tr th {\n",
              "        vertical-align: top;\n",
              "    }\n",
              "\n",
              "    .dataframe thead th {\n",
              "        text-align: right;\n",
              "    }\n",
              "</style>\n",
              "<table border=\"1\" class=\"dataframe\">\n",
              "  <thead>\n",
              "    <tr style=\"text-align: right;\">\n",
              "      <th></th>\n",
              "      <th>loss</th>\n",
              "      <th>accuracy</th>\n",
              "      <th>val_loss</th>\n",
              "      <th>val_accuracy</th>\n",
              "      <th>epoch</th>\n",
              "      <th>Learning Rate</th>\n",
              "    </tr>\n",
              "  </thead>\n",
              "  <tbody>\n",
              "    <tr>\n",
              "      <th>0</th>\n",
              "      <td>1.160362</td>\n",
              "      <td>0.639775</td>\n",
              "      <td>0.833933</td>\n",
              "      <td>0.75750</td>\n",
              "      <td>0</td>\n",
              "      <td>1_</td>\n",
              "    </tr>\n",
              "    <tr>\n",
              "      <th>1</th>\n",
              "      <td>0.794548</td>\n",
              "      <td>0.766163</td>\n",
              "      <td>0.739383</td>\n",
              "      <td>0.78655</td>\n",
              "      <td>1</td>\n",
              "      <td>1_</td>\n",
              "    </tr>\n",
              "    <tr>\n",
              "      <th>2</th>\n",
              "      <td>0.720884</td>\n",
              "      <td>0.787950</td>\n",
              "      <td>0.684259</td>\n",
              "      <td>0.80335</td>\n",
              "      <td>2</td>\n",
              "      <td>1_</td>\n",
              "    </tr>\n",
              "    <tr>\n",
              "      <th>3</th>\n",
              "      <td>0.672303</td>\n",
              "      <td>0.802150</td>\n",
              "      <td>0.656438</td>\n",
              "      <td>0.80935</td>\n",
              "      <td>3</td>\n",
              "      <td>1_</td>\n",
              "    </tr>\n",
              "    <tr>\n",
              "      <th>4</th>\n",
              "      <td>0.636186</td>\n",
              "      <td>0.813163</td>\n",
              "      <td>0.622868</td>\n",
              "      <td>0.81745</td>\n",
              "      <td>4</td>\n",
              "      <td>1_</td>\n",
              "    </tr>\n",
              "  </tbody>\n",
              "</table>\n",
              "</div>"
            ],
            "text/plain": [
              "       loss  accuracy  val_loss  val_accuracy  epoch Learning Rate\n",
              "0  1.160362  0.639775  0.833933       0.75750      0            1_\n",
              "1  0.794548  0.766163  0.739383       0.78655      1            1_\n",
              "2  0.720884  0.787950  0.684259       0.80335      2            1_\n",
              "3  0.672303  0.802150  0.656438       0.80935      3            1_\n",
              "4  0.636186  0.813163  0.622868       0.81745      4            1_"
            ]
          },
          "metadata": {
            "tags": []
          },
          "execution_count": 51
        }
      ]
    },
    {
      "cell_type": "code",
      "metadata": {
        "id": "TEYNdNSyjxh3",
        "colab_type": "code",
        "colab": {
          "base_uri": "https://localhost:8080/",
          "height": 279
        },
        "outputId": "224225ed-decc-48ae-a966-3f31c0ac089c"
      },
      "source": [
        "sns.lineplot(x='epoch', y='val_accuracy', hue='Learning Rate', data=df);"
      ],
      "execution_count": 52,
      "outputs": [
        {
          "output_type": "display_data",
          "data": {
            "image/png": "[encoded data removed]",
            "text/plain": [
              "<Figure size 432x288 with 1 Axes>"
            ]
          },
          "metadata": {
            "tags": [],
            "needs_background": "light"
          }
        }
      ]
    },
    {
      "cell_type": "code",
      "metadata": {
        "id": "40BFA0BijxXZ",
        "colab_type": "code",
        "colab": {
          "base_uri": "https://localhost:8080/",
          "height": 279
        },
        "outputId": "92ecd6d1-618b-45ce-b5f3-c5749e16f19d"
      },
      "source": [
        "sns.lineplot(x='epoch', y='val_loss', hue='Learning Rate', data=df);"
      ],
      "execution_count": 53,
      "outputs": [
        {
          "output_type": "display_data",
          "data": {
            "image/png": "[encoded data removed]",
            "text/plain": [
              "<Figure size 432x288 with 1 Axes>"
            ]
          },
          "metadata": {
            "tags": [],
            "needs_background": "light"
          }
        }
      ]
    },
    {
      "cell_type": "markdown",
      "metadata": {
        "id": "gxMtSRhV9Q7I",
        "colab_type": "text"
      },
      "source": [
        "### Experiment with different Optimizers\n",
        "* Run 5 experiments with various optimizers available in TensorFlow. See list [here](https://www.tensorflow.org/api_docs/python/tf/keras/optimizers)\n",
        "* Visualize the results\n",
        "* Write up an analysis of the experiments and select the \"best\" performing model among your experiments. Make sure to compare against the previous experiments and your model's performance yesterday.\n",
        "* Repeat the experiment combining Learning Rate and different optimizers. Does the best performing model change? "
      ]
    },
    {
      "cell_type": "code",
      "metadata": {
        "id": "oTMgzSLik6q3",
        "colab_type": "code",
        "colab": {}
      },
      "source": [
        "from tensorflow.keras.optimizers import Adadelta, Adagrad, Nadam, RMSprop, Adamax"
      ],
      "execution_count": 44,
      "outputs": []
    },
    {
      "cell_type": "code",
      "metadata": {
        "id": "ujLuzdNA91ip",
        "colab_type": "code",
        "colab": {
          "base_uri": "https://localhost:8080/",
          "height": 343
        },
        "outputId": "64bc4573-48cb-4c2d-d481-1f627f84ccef"
      },
      "source": [
        "adadelta_32 = create_model(.01, Adadelta)\n",
        "adadelta_32.fit(X_train, y_train, epochs=8, batch_size=32, validation_data=(X_test, y_test))"
      ],
      "execution_count": 46,
      "outputs": [
        {
          "output_type": "stream",
          "text": [
            "Epoch 1/8\n",
            "   1/2500 [..............................] - ETA: 2s - loss: 2.3627 - accuracy: 0.0938WARNING:tensorflow:Callbacks method `on_train_batch_end` is slow compared to the batch time (batch time: 0.0013s vs `on_train_batch_end` time: 0.0022s). Check your callbacks.\n",
            "2500/2500 [==============================] - 5s 2ms/step - loss: 1.1400 - accuracy: 0.6515 - val_loss: 0.8405 - val_accuracy: 0.7545\n",
            "Epoch 2/8\n",
            "2500/2500 [==============================] - 5s 2ms/step - loss: 0.8066 - accuracy: 0.7637 - val_loss: 0.7537 - val_accuracy: 0.7806\n",
            "Epoch 3/8\n",
            "2500/2500 [==============================] - 5s 2ms/step - loss: 0.7362 - accuracy: 0.7850 - val_loss: 0.7106 - val_accuracy: 0.7962\n",
            "Epoch 4/8\n",
            "2500/2500 [==============================] - 5s 2ms/step - loss: 0.6886 - accuracy: 0.7989 - val_loss: 0.6774 - val_accuracy: 0.8043\n",
            "Epoch 5/8\n",
            "2500/2500 [==============================] - 5s 2ms/step - loss: 0.6529 - accuracy: 0.8077 - val_loss: 0.6422 - val_accuracy: 0.8136\n",
            "Epoch 6/8\n",
            "2500/2500 [==============================] - 5s 2ms/step - loss: 0.6245 - accuracy: 0.8160 - val_loss: 0.6241 - val_accuracy: 0.8157\n",
            "Epoch 7/8\n",
            "2500/2500 [==============================] - 5s 2ms/step - loss: 0.6005 - accuracy: 0.8229 - val_loss: 0.6035 - val_accuracy: 0.8233\n",
            "Epoch 8/8\n",
            "2500/2500 [==============================] - 5s 2ms/step - loss: 0.5800 - accuracy: 0.8285 - val_loss: 0.5823 - val_accuracy: 0.8292\n"
          ],
          "name": "stdout"
        },
        {
          "output_type": "execute_result",
          "data": {
            "text/plain": [
              "<tensorflow.python.keras.callbacks.History at 0x7f21c007eb70>"
            ]
          },
          "metadata": {
            "tags": []
          },
          "execution_count": 46
        }
      ]
    },
    {
      "cell_type": "code",
      "metadata": {
        "id": "Dh6eSdd9kPBW",
        "colab_type": "code",
        "colab": {
          "base_uri": "https://localhost:8080/",
          "height": 306
        },
        "outputId": "09234d34-9416-48b1-aaa6-c49269ecac96"
      },
      "source": [
        "adagrad_32 = create_model(.01, Adagrad)\n",
        "adagrad_32.fit(X_train, y_train, epochs=8, batch_size=32, validation_data=(X_test, y_test))"
      ],
      "execution_count": 47,
      "outputs": [
        {
          "output_type": "stream",
          "text": [
            "Epoch 1/8\n",
            "2500/2500 [==============================] - 5s 2ms/step - loss: 1.1768 - accuracy: 0.6310 - val_loss: 0.8583 - val_accuracy: 0.7488\n",
            "Epoch 2/8\n",
            "2500/2500 [==============================] - 5s 2ms/step - loss: 0.8037 - accuracy: 0.7631 - val_loss: 0.7486 - val_accuracy: 0.7822\n",
            "Epoch 3/8\n",
            "2500/2500 [==============================] - 5s 2ms/step - loss: 0.7194 - accuracy: 0.7897 - val_loss: 0.6805 - val_accuracy: 0.7992\n",
            "Epoch 4/8\n",
            "2500/2500 [==============================] - 5s 2ms/step - loss: 0.6648 - accuracy: 0.8051 - val_loss: 0.6510 - val_accuracy: 0.8076\n",
            "Epoch 5/8\n",
            "2500/2500 [==============================] - 5s 2ms/step - loss: 0.6275 - accuracy: 0.8142 - val_loss: 0.6176 - val_accuracy: 0.8155\n",
            "Epoch 6/8\n",
            "2500/2500 [==============================] - 5s 2ms/step - loss: 0.5987 - accuracy: 0.8222 - val_loss: 0.6114 - val_accuracy: 0.8185\n",
            "Epoch 7/8\n",
            "2500/2500 [==============================] - 5s 2ms/step - loss: 0.5777 - accuracy: 0.8285 - val_loss: 0.5831 - val_accuracy: 0.8277\n",
            "Epoch 8/8\n",
            "2500/2500 [==============================] - 5s 2ms/step - loss: 0.5596 - accuracy: 0.8335 - val_loss: 0.5962 - val_accuracy: 0.8223\n"
          ],
          "name": "stdout"
        },
        {
          "output_type": "execute_result",
          "data": {
            "text/plain": [
              "<tensorflow.python.keras.callbacks.History at 0x7f214d802208>"
            ]
          },
          "metadata": {
            "tags": []
          },
          "execution_count": 47
        }
      ]
    },
    {
      "cell_type": "code",
      "metadata": {
        "id": "ekU2HnVpkPTO",
        "colab_type": "code",
        "colab": {
          "base_uri": "https://localhost:8080/",
          "height": 306
        },
        "outputId": "dbd121f0-6b67-426d-8529-3bbcb62d451f"
      },
      "source": [
        "nadam_32 = create_model(.01, Nadam)\n",
        "nadam_32.fit(X_train, y_train, epochs=8, batch_size=32, validation_data=(X_test, y_test))"
      ],
      "execution_count": 48,
      "outputs": [
        {
          "output_type": "stream",
          "text": [
            "Epoch 1/8\n",
            "2500/2500 [==============================] - 5s 2ms/step - loss: 1.1691 - accuracy: 0.6416 - val_loss: 0.8500 - val_accuracy: 0.7459\n",
            "Epoch 2/8\n",
            "2500/2500 [==============================] - 5s 2ms/step - loss: 0.8071 - accuracy: 0.7632 - val_loss: 0.7592 - val_accuracy: 0.7794\n",
            "Epoch 3/8\n",
            "2500/2500 [==============================] - 5s 2ms/step - loss: 0.7365 - accuracy: 0.7848 - val_loss: 0.7035 - val_accuracy: 0.7951\n",
            "Epoch 4/8\n",
            "2500/2500 [==============================] - 5s 2ms/step - loss: 0.6844 - accuracy: 0.8002 - val_loss: 0.6586 - val_accuracy: 0.8077\n",
            "Epoch 5/8\n",
            "2500/2500 [==============================] - 5s 2ms/step - loss: 0.6435 - accuracy: 0.8106 - val_loss: 0.6304 - val_accuracy: 0.8184\n",
            "Epoch 6/8\n",
            "2500/2500 [==============================] - 5s 2ms/step - loss: 0.6117 - accuracy: 0.8204 - val_loss: 0.6085 - val_accuracy: 0.8219\n",
            "Epoch 7/8\n",
            "2500/2500 [==============================] - 5s 2ms/step - loss: 0.5854 - accuracy: 0.8285 - val_loss: 0.5862 - val_accuracy: 0.8285\n",
            "Epoch 8/8\n",
            "2500/2500 [==============================] - 5s 2ms/step - loss: 0.5643 - accuracy: 0.8354 - val_loss: 0.5769 - val_accuracy: 0.8314\n"
          ],
          "name": "stdout"
        },
        {
          "output_type": "execute_result",
          "data": {
            "text/plain": [
              "<tensorflow.python.keras.callbacks.History at 0x7f214d795e10>"
            ]
          },
          "metadata": {
            "tags": []
          },
          "execution_count": 48
        }
      ]
    },
    {
      "cell_type": "code",
      "metadata": {
        "id": "NjaTSmuDkPE-",
        "colab_type": "code",
        "colab": {
          "base_uri": "https://localhost:8080/",
          "height": 306
        },
        "outputId": "04907f23-cad2-445d-bce9-87510b271f4a"
      },
      "source": [
        "rmsprop_32 = create_model(.01, RMSprop)\n",
        "rmsprop_32.fit(X_train, y_train, epochs=8, batch_size=32, validation_data=(X_test, y_test))"
      ],
      "execution_count": 49,
      "outputs": [
        {
          "output_type": "stream",
          "text": [
            "Epoch 1/8\n",
            "2500/2500 [==============================] - 5s 2ms/step - loss: 1.1510 - accuracy: 0.6422 - val_loss: 0.8477 - val_accuracy: 0.7523\n",
            "Epoch 2/8\n",
            "2500/2500 [==============================] - 5s 2ms/step - loss: 0.8037 - accuracy: 0.7646 - val_loss: 0.7418 - val_accuracy: 0.7848\n",
            "Epoch 3/8\n",
            "2500/2500 [==============================] - 5s 2ms/step - loss: 0.7223 - accuracy: 0.7883 - val_loss: 0.6924 - val_accuracy: 0.7945\n",
            "Epoch 4/8\n",
            "2500/2500 [==============================] - 5s 2ms/step - loss: 0.6705 - accuracy: 0.8025 - val_loss: 0.6435 - val_accuracy: 0.8106\n",
            "Epoch 5/8\n",
            "2500/2500 [==============================] - 5s 2ms/step - loss: 0.6340 - accuracy: 0.8133 - val_loss: 0.6219 - val_accuracy: 0.8149\n",
            "Epoch 6/8\n",
            "2500/2500 [==============================] - 5s 2ms/step - loss: 0.6075 - accuracy: 0.8213 - val_loss: 0.5986 - val_accuracy: 0.8226\n",
            "Epoch 7/8\n",
            "2500/2500 [==============================] - 5s 2ms/step - loss: 0.5859 - accuracy: 0.8272 - val_loss: 0.5846 - val_accuracy: 0.8256\n",
            "Epoch 8/8\n",
            "2500/2500 [==============================] - 5s 2ms/step - loss: 0.5687 - accuracy: 0.8318 - val_loss: 0.5805 - val_accuracy: 0.8264\n"
          ],
          "name": "stdout"
        },
        {
          "output_type": "execute_result",
          "data": {
            "text/plain": [
              "<tensorflow.python.keras.callbacks.History at 0x7f214dd5e390>"
            ]
          },
          "metadata": {
            "tags": []
          },
          "execution_count": 49
        }
      ]
    },
    {
      "cell_type": "code",
      "metadata": {
        "id": "kb7U4UXJkO85",
        "colab_type": "code",
        "colab": {
          "base_uri": "https://localhost:8080/",
          "height": 343
        },
        "outputId": "8e8de49c-a476-40cc-f91b-a56b60f45648"
      },
      "source": [
        "adamax_32 = create_model(.01, Adamax)\n",
        "adamax_32.fit(X_train, y_train, epochs=8, batch_size=32, validation_data=(X_test, y_test))"
      ],
      "execution_count": 50,
      "outputs": [
        {
          "output_type": "stream",
          "text": [
            "Epoch 1/8\n",
            "   1/2500 [..............................] - ETA: 0s - loss: 2.3495 - accuracy: 0.1875WARNING:tensorflow:Callbacks method `on_train_batch_end` is slow compared to the batch time (batch time: 0.0014s vs `on_train_batch_end` time: 0.0025s). Check your callbacks.\n",
            "2500/2500 [==============================] - 5s 2ms/step - loss: 1.1655 - accuracy: 0.6359 - val_loss: 0.8550 - val_accuracy: 0.7485\n",
            "Epoch 2/8\n",
            "2500/2500 [==============================] - 5s 2ms/step - loss: 0.8108 - accuracy: 0.7622 - val_loss: 0.7562 - val_accuracy: 0.7807\n",
            "Epoch 3/8\n",
            "2500/2500 [==============================] - 5s 2ms/step - loss: 0.7371 - accuracy: 0.7845 - val_loss: 0.6996 - val_accuracy: 0.7955\n",
            "Epoch 4/8\n",
            "2500/2500 [==============================] - 5s 2ms/step - loss: 0.6871 - accuracy: 0.7995 - val_loss: 0.6612 - val_accuracy: 0.8062\n",
            "Epoch 5/8\n",
            "2500/2500 [==============================] - 5s 2ms/step - loss: 0.6502 - accuracy: 0.8099 - val_loss: 0.6342 - val_accuracy: 0.8127\n",
            "Epoch 6/8\n",
            "2500/2500 [==============================] - 5s 2ms/step - loss: 0.6212 - accuracy: 0.8188 - val_loss: 0.6134 - val_accuracy: 0.8196\n",
            "Epoch 7/8\n",
            "2500/2500 [==============================] - 5s 2ms/step - loss: 0.5973 - accuracy: 0.8255 - val_loss: 0.5938 - val_accuracy: 0.8263\n",
            "Epoch 8/8\n",
            "2500/2500 [==============================] - 5s 2ms/step - loss: 0.5784 - accuracy: 0.8301 - val_loss: 0.5782 - val_accuracy: 0.8324\n"
          ],
          "name": "stdout"
        },
        {
          "output_type": "execute_result",
          "data": {
            "text/plain": [
              "<tensorflow.python.keras.callbacks.History at 0x7f2143ff2cf8>"
            ]
          },
          "metadata": {
            "tags": []
          },
          "execution_count": 50
        }
      ]
    },
    {
      "cell_type": "code",
      "metadata": {
        "id": "er1CcId8mV_d",
        "colab_type": "code",
        "colab": {
          "base_uri": "https://localhost:8080/",
          "height": 1000
        },
        "outputId": "d5724964-473a-464b-a473-c3e7f8450d0c"
      },
      "source": [
        "dir(adamax_32)"
      ],
      "execution_count": 54,
      "outputs": [
        {
          "output_type": "execute_result",
          "data": {
            "text/plain": [
              "['_TF_MODULE_IGNORED_PROPERTIES',\n",
              " '__call__',\n",
              " '__class__',\n",
              " '__delattr__',\n",
              " '__dict__',\n",
              " '__dir__',\n",
              " '__doc__',\n",
              " '__eq__',\n",
              " '__format__',\n",
              " '__ge__',\n",
              " '__getattribute__',\n",
              " '__getstate__',\n",
              " '__gt__',\n",
              " '__hash__',\n",
              " '__init__',\n",
              " '__init_subclass__',\n",
              " '__le__',\n",
              " '__lt__',\n",
              " '__module__',\n",
              " '__ne__',\n",
              " '__new__',\n",
              " '__reduce__',\n",
              " '__reduce_ex__',\n",
              " '__repr__',\n",
              " '__setattr__',\n",
              " '__setstate__',\n",
              " '__sizeof__',\n",
              " '__str__',\n",
              " '__subclasshook__',\n",
              " '__weakref__',\n",
              " '_activity_regularizer',\n",
              " '_add_trackable',\n",
              " '_add_variable_with_custom_getter',\n",
              " '_assert_compile_was_called',\n",
              " '_assert_weights_created',\n",
              " '_auto_track_sub_layers',\n",
              " '_autocast',\n",
              " '_autographed_call',\n",
              " '_base_model_initialized',\n",
              " '_build_graph_network_for_inferred_shape',\n",
              " '_build_input_shape',\n",
              " '_call_accepts_kwargs',\n",
              " '_call_arg_was_passed',\n",
              " '_call_fn_arg_defaults',\n",
              " '_call_fn_arg_positions',\n",
              " '_call_fn_args',\n",
              " '_call_full_argspec',\n",
              " '_callable_losses',\n",
              " '_cast_single_input',\n",
              " '_check_call_args',\n",
              " '_checkpoint_dependencies',\n",
              " '_clear_losses',\n",
              " '_compile_was_called',\n",
              " '_compiled_trainable_state',\n",
              " '_compute_dtype',\n",
              " '_compute_dtype_object',\n",
              " '_compute_output_and_mask_jointly',\n",
              " '_compute_tensor_usage_count',\n",
              " '_configure_steps_per_execution',\n",
              " '_conform_to_reference_input',\n",
              " '_created_nodes',\n",
              " '_dedup_weights',\n",
              " '_default_training_arg',\n",
              " '_deferred_dependencies',\n",
              " '_distribution_strategy',\n",
              " '_dtype',\n",
              " '_dtype_defaulted_to_floatx',\n",
              " '_dtype_policy',\n",
              " '_dynamic',\n",
              " '_eager_losses',\n",
              " '_enable_dict_to_input_mapping',\n",
              " '_expects_mask_arg',\n",
              " '_expects_training_arg',\n",
              " '_feed_input_names',\n",
              " '_feed_input_shapes',\n",
              " '_feed_inputs',\n",
              " '_flatten',\n",
              " '_flatten_layers',\n",
              " '_flatten_to_reference_inputs',\n",
              " '_functional_construction_call',\n",
              " '_gather_children_attribute',\n",
              " '_gather_saveables_for_checkpoint',\n",
              " '_get_call_arg_value',\n",
              " '_get_callback_model',\n",
              " '_get_compile_args',\n",
              " '_get_distribution_strategy',\n",
              " '_get_existing_metric',\n",
              " '_get_input_masks',\n",
              " '_get_node_attribute_at_index',\n",
              " '_get_optimizer',\n",
              " '_get_save_spec',\n",
              " '_get_trainable_state',\n",
              " '_graph_initialized',\n",
              " '_graph_network_add_loss',\n",
              " '_graph_network_add_metric',\n",
              " '_handle_activity_regularization',\n",
              " '_handle_deferred_dependencies',\n",
              " '_handle_deferred_layer_dependencies',\n",
              " '_handle_weight_regularization',\n",
              " '_has_explicit_input_shape',\n",
              " '_in_multi_worker_mode',\n",
              " '_inbound_nodes',\n",
              " '_infer_output_signature',\n",
              " '_inferred_input_shape',\n",
              " '_init_batch_counters',\n",
              " '_init_call_fn_args',\n",
              " '_init_graph_network',\n",
              " '_init_set_name',\n",
              " '_initial_weights',\n",
              " '_input_coordinates',\n",
              " '_input_dtype',\n",
              " '_input_layers',\n",
              " '_input_spec',\n",
              " '_insert_layers',\n",
              " '_is_compiled',\n",
              " '_is_graph_network',\n",
              " '_is_layer',\n",
              " '_is_layer_name_unique',\n",
              " '_keras_api_names',\n",
              " '_keras_api_names_v1',\n",
              " '_keras_tensor_symbolic_call',\n",
              " '_layer_call_argspecs',\n",
              " '_layer_checkpoint_dependencies',\n",
              " '_layers',\n",
              " '_list_extra_dependencies_for_serialization',\n",
              " '_list_functions_for_serialization',\n",
              " '_lookup_dependency',\n",
              " '_losses',\n",
              " '_map_resources',\n",
              " '_maybe_build',\n",
              " '_maybe_cast_inputs',\n",
              " '_maybe_create_attribute',\n",
              " '_maybe_initialize_trackable',\n",
              " '_maybe_load_initial_epoch_from_ckpt',\n",
              " '_metrics',\n",
              " '_metrics_lock',\n",
              " '_must_restore_from_config',\n",
              " '_name',\n",
              " '_name_based_attribute_restore',\n",
              " '_name_based_restores',\n",
              " '_name_scope',\n",
              " '_nested_inputs',\n",
              " '_nested_outputs',\n",
              " '_network_nodes',\n",
              " '_no_dependency',\n",
              " '_nodes_by_depth',\n",
              " '_non_trainable_weights',\n",
              " '_obj_reference_counts',\n",
              " '_obj_reference_counts_dict',\n",
              " '_object_identifier',\n",
              " '_outbound_nodes',\n",
              " '_output_coordinates',\n",
              " '_output_layers',\n",
              " '_output_mask_cache',\n",
              " '_output_shape_cache',\n",
              " '_output_tensor_cache',\n",
              " '_predict_counter',\n",
              " '_preload_simple_restoration',\n",
              " '_reset_compile_cache',\n",
              " '_restore_from_checkpoint_position',\n",
              " '_run_eagerly',\n",
              " '_run_internal_graph',\n",
              " '_saved_model_inputs_spec',\n",
              " '_self_name_based_restores',\n",
              " '_self_saveable_object_factories',\n",
              " '_self_setattr_tracking',\n",
              " '_self_unconditional_checkpoint_dependencies',\n",
              " '_self_unconditional_deferred_dependencies',\n",
              " '_self_unconditional_dependency_names',\n",
              " '_self_update_uid',\n",
              " '_set_call_arg_value',\n",
              " '_set_connectivity_metadata',\n",
              " '_set_dtype_policy',\n",
              " '_set_inputs',\n",
              " '_set_mask_keras_history_checked',\n",
              " '_set_mask_metadata',\n",
              " '_set_output_names',\n",
              " '_set_save_spec',\n",
              " '_set_trainable_state',\n",
              " '_set_training_mode',\n",
              " '_setattr_tracking',\n",
              " '_should_cast_single_input',\n",
              " '_should_compute_mask',\n",
              " '_should_eval',\n",
              " '_single_restoration_from_checkpoint_position',\n",
              " '_split_out_first_arg',\n",
              " '_stateful',\n",
              " '_steps_per_execution',\n",
              " '_supports_masking',\n",
              " '_symbolic_call',\n",
              " '_tensor_usage_count',\n",
              " '_test_counter',\n",
              " '_tf_api_names',\n",
              " '_tf_api_names_v1',\n",
              " '_thread_local',\n",
              " '_track_trackable',\n",
              " '_trackable_saved_model_saver',\n",
              " '_trackable_saver',\n",
              " '_tracking_metadata',\n",
              " '_train_counter',\n",
              " '_trainable',\n",
              " '_trainable_weights',\n",
              " '_training_state',\n",
              " '_unconditional_checkpoint_dependencies',\n",
              " '_unconditional_dependency_names',\n",
              " '_undeduplicated_weights',\n",
              " '_update_uid',\n",
              " '_updated_config',\n",
              " '_updates',\n",
              " '_use_legacy_deferred_behavior',\n",
              " '_validate_compile',\n",
              " '_validate_graph_inputs_and_outputs',\n",
              " '_warn_about_input_casting',\n",
              " 'activity_regularizer',\n",
              " 'add',\n",
              " 'add_loss',\n",
              " 'add_metric',\n",
              " 'add_update',\n",
              " 'add_variable',\n",
              " 'add_weight',\n",
              " 'apply',\n",
              " 'build',\n",
              " 'built',\n",
              " 'call',\n",
              " 'compile',\n",
              " 'compiled_loss',\n",
              " 'compiled_metrics',\n",
              " 'compute_mask',\n",
              " 'compute_output_shape',\n",
              " 'compute_output_signature',\n",
              " 'count_params',\n",
              " 'distribute_strategy',\n",
              " 'dtype',\n",
              " 'dynamic',\n",
              " 'evaluate',\n",
              " 'evaluate_generator',\n",
              " 'fit',\n",
              " 'fit_generator',\n",
              " 'from_config',\n",
              " 'get_config',\n",
              " 'get_input_at',\n",
              " 'get_input_mask_at',\n",
              " 'get_input_shape_at',\n",
              " 'get_layer',\n",
              " 'get_losses_for',\n",
              " 'get_output_at',\n",
              " 'get_output_mask_at',\n",
              " 'get_output_shape_at',\n",
              " 'get_updates_for',\n",
              " 'get_weights',\n",
              " 'history',\n",
              " 'inbound_nodes',\n",
              " 'input',\n",
              " 'input_mask',\n",
              " 'input_names',\n",
              " 'input_shape',\n",
              " 'input_spec',\n",
              " 'inputs',\n",
              " 'layers',\n",
              " 'load_weights',\n",
              " 'loss',\n",
              " 'losses',\n",
              " 'make_predict_function',\n",
              " 'make_test_function',\n",
              " 'make_train_function',\n",
              " 'metrics',\n",
              " 'metrics_names',\n",
              " 'name',\n",
              " 'name_scope',\n",
              " 'non_trainable_variables',\n",
              " 'non_trainable_weights',\n",
              " 'optimizer',\n",
              " 'outbound_nodes',\n",
              " 'output',\n",
              " 'output_mask',\n",
              " 'output_names',\n",
              " 'output_shape',\n",
              " 'outputs',\n",
              " 'pop',\n",
              " 'predict',\n",
              " 'predict_classes',\n",
              " 'predict_function',\n",
              " 'predict_generator',\n",
              " 'predict_on_batch',\n",
              " 'predict_proba',\n",
              " 'predict_step',\n",
              " 'reset_metrics',\n",
              " 'reset_states',\n",
              " 'run_eagerly',\n",
              " 'save',\n",
              " 'save_weights',\n",
              " 'set_weights',\n",
              " 'state_updates',\n",
              " 'stateful',\n",
              " 'stop_training',\n",
              " 'submodules',\n",
              " 'summary',\n",
              " 'supports_masking',\n",
              " 'test_function',\n",
              " 'test_on_batch',\n",
              " 'test_step',\n",
              " 'to_json',\n",
              " 'to_yaml',\n",
              " 'train_function',\n",
              " 'train_on_batch',\n",
              " 'train_step',\n",
              " 'trainable',\n",
              " 'trainable_variables',\n",
              " 'trainable_weights',\n",
              " 'updates',\n",
              " 'variables',\n",
              " 'weights',\n",
              " 'with_name_scope']"
            ]
          },
          "metadata": {
            "tags": []
          },
          "execution_count": 54
        }
      ]
    },
    {
      "cell_type": "markdown",
      "metadata": {
        "id": "ydAqeY9S8uHA",
        "colab_type": "text"
      },
      "source": [
        "### Additional Written Tasks\n",
        "\n",
        "1. Describe the process of backpropagation in your own words: \n",
        "```\n",
        "Your answer goes here.\n",
        "```\n",
        "\n"
      ]
    },
    {
      "cell_type": "markdown",
      "metadata": {
        "colab_type": "text",
        "id": "FwlRJSfBlCvy"
      },
      "source": [
        "## Stretch Goals: \n",
        "\n",
        "- Implement GridSearch on anyone of the experiments\n",
        "- On the learning rate experiments, implement [EarlyStopping](https://www.tensorflow.org/api_docs/python/tf/keras/callbacks/EarlyStopping)\n",
        "- Review material on the math behind gradient descent: \n",
        "\n",
        "  - Gradient Descent\n",
        "    - Gradient Descent, Step-by-Step  by StatQuest w/ Josh Starmer. This will help you understand the gradient descent based optimization that happens underneath the hood of neural networks. It uses a non-neural network example, which I believe is a gentler introduction. You will hear me refer to this technique as \"vanilla\" gradient descent. \n",
        "    - Stochastic Gradient Descent, Clearly Explained!!! by StatQuest w/ Josh Starmer. This builds on the techniques in the previous video.  This technique is the one that is actually implemented inside modern 'nets. \n",
        "These are great resources to help you understand tomorrow's material at a deeper level. I highly recommend watching these ahead of tomorrow.\n",
        "\n",
        "  - Background Math\n",
        "    - Dot products and duality by 3Blue1Brown. Explains the core linear algebra operation happening in today's perceptron.\n",
        "The paradox of the derivative by 3Blue1Brown. Does a great job explaining a derivative. \n",
        "    - Visualizing the chain rule and product rule by 3Blue1Brown. Explains the black magic that happens within Stochastic Gradient Descent. \n",
        "These math resources are very much optional. They can be very heady, but I encourage you to explore. Your understanding of neural networks will greatly increase if you understand this math background.\n",
        "\n",
        "\n"
      ]
    }
  ]
}